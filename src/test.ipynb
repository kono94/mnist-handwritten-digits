{
 "metadata": {
  "language_info": {
   "codemirror_mode": {
    "name": "ipython",
    "version": 3
   },
   "file_extension": ".py",
   "mimetype": "text/x-python",
   "name": "python",
   "nbconvert_exporter": "python",
   "pygments_lexer": "ipython3",
   "version": "3.6.9"
  },
  "orig_nbformat": 2,
  "kernelspec": {
   "name": "python369jvsc74a57bd05afbb5ccb6118ef4f4c099640768f012cb1a6e1c312311210142b974ce961c0d",
   "display_name": "Python 3.6.9 64-bit ('env': venv)"
  },
  "metadata": {
   "interpreter": {
    "hash": "5afbb5ccb6118ef4f4c099640768f012cb1a6e1c312311210142b974ce961c0d"
   }
  }
 },
 "nbformat": 4,
 "nbformat_minor": 2,
 "cells": [
  {
   "cell_type": "code",
   "execution_count": 1,
   "metadata": {
    "tags": []
   },
   "outputs": [
    {
     "output_type": "stream",
     "name": "stdout",
     "text": [
      "<class 'torch.nn.parameter.Parameter'> torch.Size([512, 784])\n",
      "<class 'torch.nn.parameter.Parameter'> torch.Size([512])\n",
      "<class 'torch.nn.parameter.Parameter'> torch.Size([10, 512])\n",
      "<class 'torch.nn.parameter.Parameter'> torch.Size([10])\n",
      "Feature batch shape: torch.Size([64, 1, 28, 28])\n",
      "Labels batch shape: torch.Size([64])\n",
      "Epoch 1\n",
      "-------------------------------\n",
      "loss: 2.336880  [    0/60000]\n",
      "loss: 2.245931  [ 6400/60000]\n",
      "loss: 2.204935  [12800/60000]\n",
      "loss: 2.144342  [19200/60000]\n",
      "loss: 2.108178  [25600/60000]\n",
      "loss: 2.105351  [32000/60000]\n",
      "loss: 2.074280  [38400/60000]\n",
      "loss: 2.016019  [44800/60000]\n",
      "loss: 1.973004  [51200/60000]\n",
      "loss: 1.946103  [57600/60000]\n",
      "Test Error: \n",
      " Accuracy: 74.3%, Avg loss: 0.030140 \n",
      "\n",
      "Epoch 2\n",
      "-------------------------------\n",
      "loss: 1.913288  [    0/60000]\n",
      "loss: 1.918798  [ 6400/60000]\n",
      "loss: 1.821855  [12800/60000]\n",
      "loss: 1.843099  [19200/60000]\n",
      "loss: 1.859855  [25600/60000]\n",
      "loss: 1.832328  [32000/60000]\n",
      "loss: 1.800310  [38400/60000]\n",
      "loss: 1.766495  [44800/60000]\n",
      "loss: 1.767542  [51200/60000]\n",
      "loss: 1.714146  [57600/60000]\n",
      "Test Error: \n",
      " Accuracy: 79.7%, Avg loss: 0.026504 \n",
      "\n",
      "Epoch 3\n",
      "-------------------------------\n",
      "loss: 1.718023  [    0/60000]\n",
      "loss: 1.683174  [ 6400/60000]\n",
      "loss: 1.705244  [12800/60000]\n",
      "loss: 1.628416  [19200/60000]\n",
      "loss: 1.603331  [25600/60000]\n",
      "loss: 1.585983  [32000/60000]\n",
      "loss: 1.573237  [38400/60000]\n",
      "loss: 1.520676  [44800/60000]\n",
      "loss: 1.571426  [51200/60000]\n",
      "loss: 1.633344  [57600/60000]\n",
      "Test Error: \n",
      " Accuracy: 82.1%, Avg loss: 0.024315 \n",
      "\n",
      "Epoch 4\n",
      "-------------------------------\n",
      "loss: 1.522956  [    0/60000]\n",
      "loss: 1.469384  [ 6400/60000]\n",
      "loss: 1.495462  [12800/60000]\n",
      "loss: 1.514929  [19200/60000]\n",
      "loss: 1.519174  [25600/60000]\n",
      "loss: 1.540240  [32000/60000]\n",
      "loss: 1.491555  [38400/60000]\n",
      "loss: 1.454986  [44800/60000]\n",
      "loss: 1.472719  [51200/60000]\n",
      "loss: 1.513927  [57600/60000]\n",
      "Test Error: \n",
      " Accuracy: 83.4%, Avg loss: 0.022908 \n",
      "\n",
      "Epoch 5\n",
      "-------------------------------\n",
      "loss: 1.450670  [    0/60000]\n",
      "loss: 1.477028  [ 6400/60000]\n",
      "loss: 1.485065  [12800/60000]\n",
      "loss: 1.407418  [19200/60000]\n",
      "loss: 1.432234  [25600/60000]\n",
      "loss: 1.428046  [32000/60000]\n",
      "loss: 1.509698  [38400/60000]\n",
      "loss: 1.374555  [44800/60000]\n",
      "loss: 1.391527  [51200/60000]\n",
      "loss: 1.449338  [57600/60000]\n",
      "Test Error: \n",
      " Accuracy: 84.2%, Avg loss: 0.021932 \n",
      "\n",
      "Done!\n"
     ]
    }
   ],
   "source": [
    "from predefined import single_linear_model\n",
    "from model import SingleLinearModel, DoubleLinearModel\n",
    "from train import Trainer\n",
    "\n",
    "trainer: Trainer = single_linear_model()\n",
    "\n",
    "final_acc, final_loss = trainer.invoke_training()"
   ]
  },
  {
   "cell_type": "code",
   "execution_count": 65,
   "metadata": {},
   "outputs": [
    {
     "output_type": "execute_result",
     "data": {
      "text/plain": [
       "tensor([5, 5, 7, 2, 8, 5, 9, 3, 3, 1, 5])"
      ]
     },
     "metadata": {},
     "execution_count": 65
    }
   ],
   "source": [
    "import torch\n",
    "correct = 1\n",
    "torch.manual_seed(1)\n",
    "en = enumerate(trainer.test_dataloader)\n",
    "v = next(en)[1]\n",
    "X, y  = (v[0], v[1])\n",
    "\n",
    "pred = trainer.model(X)\n",
    "correct += (pred.argmax(1) == y).type(torch.float).sum().item()\n",
    "wrong_idx = (pred.argmax(1) != y)\n",
    "\n",
    "wrong_img = X[wrong_idx]\n",
    "wrong_guess = pred[wrong_idx].argmax(1)\n",
    "real_pred = y[wrong_idx]\n",
    "\n",
    "figure = plt.figure(figsize=(8, 8))\n",
    "amount = 20\n",
    "cols, rows = 5, amount // 5 + (amount % 5 > 0)\n",
    "\n",
    "for i in wrong_idx:\n",
    "    img = X[i]\n",
    "    wrong_guess = pred[i].argmax(1)\n",
    "    real_pred = y[i]\n",
    "    figure.add_subplot(rows, cols, i)\n",
    "    plt.axis(\"off\")\n",
    "    plt.title(label)\n",
    "    plt.imshow(img.squeeze(), cmap=\"viridis\")\n",
    "plt.show()\n"
   ]
  },
  {
   "cell_type": "code",
   "execution_count": null,
   "metadata": {},
   "outputs": [],
   "source": []
  }
 ]
}